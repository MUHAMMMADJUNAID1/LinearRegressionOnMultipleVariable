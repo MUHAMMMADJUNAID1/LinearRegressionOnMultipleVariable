{
 "cells": [
  {
   "cell_type": "code",
   "execution_count": 13,
   "id": "9a53c286",
   "metadata": {},
   "outputs": [
    {
     "name": "stdout",
     "output_type": "stream",
     "text": [
      "             Age      Height      Weight       Premium\n",
      "count  89.000000   83.000000   89.000000     89.000000\n",
      "mean   58.797753   74.460120   81.921348  34325.842697\n",
      "std    21.813872   29.021283   28.654376   7742.702255\n",
      "min    20.000000   33.000000   40.000000  15000.000000\n",
      "25%    40.000000   55.440000   60.000000  30000.000000\n",
      "50%    62.000000   67.880000   77.000000  35000.000000\n",
      "75%    78.000000   80.940000   96.000000  41000.000000\n",
      "max    90.000000  172.720000  160.000000  45000.000000\n"
     ]
    },
    {
     "data": {
      "text/html": [
       "<div>\n",
       "<style scoped>\n",
       "    .dataframe tbody tr th:only-of-type {\n",
       "        vertical-align: middle;\n",
       "    }\n",
       "\n",
       "    .dataframe tbody tr th {\n",
       "        vertical-align: top;\n",
       "    }\n",
       "\n",
       "    .dataframe thead th {\n",
       "        text-align: right;\n",
       "    }\n",
       "</style>\n",
       "<table border=\"1\" class=\"dataframe\">\n",
       "  <thead>\n",
       "    <tr style=\"text-align: right;\">\n",
       "      <th></th>\n",
       "      <th>Age</th>\n",
       "      <th>Height</th>\n",
       "      <th>Weight</th>\n",
       "      <th>Premium</th>\n",
       "    </tr>\n",
       "  </thead>\n",
       "  <tbody>\n",
       "    <tr>\n",
       "      <th>0</th>\n",
       "      <td>20</td>\n",
       "      <td>162.56</td>\n",
       "      <td>70</td>\n",
       "      <td>15000</td>\n",
       "    </tr>\n",
       "    <tr>\n",
       "      <th>1</th>\n",
       "      <td>20</td>\n",
       "      <td>172.72</td>\n",
       "      <td>95</td>\n",
       "      <td>16000</td>\n",
       "    </tr>\n",
       "    <tr>\n",
       "      <th>2</th>\n",
       "      <td>20</td>\n",
       "      <td>167.64</td>\n",
       "      <td>78</td>\n",
       "      <td>17000</td>\n",
       "    </tr>\n",
       "    <tr>\n",
       "      <th>3</th>\n",
       "      <td>21</td>\n",
       "      <td>NaN</td>\n",
       "      <td>110</td>\n",
       "      <td>18000</td>\n",
       "    </tr>\n",
       "    <tr>\n",
       "      <th>4</th>\n",
       "      <td>22</td>\n",
       "      <td>157.48</td>\n",
       "      <td>85</td>\n",
       "      <td>19000</td>\n",
       "    </tr>\n",
       "    <tr>\n",
       "      <th>...</th>\n",
       "      <td>...</td>\n",
       "      <td>...</td>\n",
       "      <td>...</td>\n",
       "      <td>...</td>\n",
       "    </tr>\n",
       "    <tr>\n",
       "      <th>84</th>\n",
       "      <td>88</td>\n",
       "      <td>65.00</td>\n",
       "      <td>129</td>\n",
       "      <td>44000</td>\n",
       "    </tr>\n",
       "    <tr>\n",
       "      <th>85</th>\n",
       "      <td>88</td>\n",
       "      <td>33.00</td>\n",
       "      <td>123</td>\n",
       "      <td>44000</td>\n",
       "    </tr>\n",
       "    <tr>\n",
       "      <th>86</th>\n",
       "      <td>89</td>\n",
       "      <td>53.00</td>\n",
       "      <td>137</td>\n",
       "      <td>45000</td>\n",
       "    </tr>\n",
       "    <tr>\n",
       "      <th>87</th>\n",
       "      <td>89</td>\n",
       "      <td>55.33</td>\n",
       "      <td>125</td>\n",
       "      <td>45000</td>\n",
       "    </tr>\n",
       "    <tr>\n",
       "      <th>88</th>\n",
       "      <td>90</td>\n",
       "      <td>56.55</td>\n",
       "      <td>124</td>\n",
       "      <td>45000</td>\n",
       "    </tr>\n",
       "  </tbody>\n",
       "</table>\n",
       "<p>89 rows × 4 columns</p>\n",
       "</div>"
      ],
      "text/plain": [
       "    Age  Height  Weight  Premium\n",
       "0    20  162.56      70    15000\n",
       "1    20  172.72      95    16000\n",
       "2    20  167.64      78    17000\n",
       "3    21     NaN     110    18000\n",
       "4    22  157.48      85    19000\n",
       "..  ...     ...     ...      ...\n",
       "84   88   65.00     129    44000\n",
       "85   88   33.00     123    44000\n",
       "86   89   53.00     137    45000\n",
       "87   89   55.33     125    45000\n",
       "88   90   56.55     124    45000\n",
       "\n",
       "[89 rows x 4 columns]"
      ]
     },
     "execution_count": 13,
     "metadata": {},
     "output_type": "execute_result"
    }
   ],
   "source": [
    "#importing libararies\n",
    "import pandas as pd\n",
    "import numpy as np\n",
    "import datetime\n",
    "from sklearn import linear_model\n",
    "\n"
   ]
  },
  {
   "cell_type": "code",
   "execution_count": null,
   "id": "9bf1a87c",
   "metadata": {},
   "outputs": [],
   "source": [
    "data= pd.read_csv('DataSet.csv')\n",
    "print(data.describe())\n",
    "data"
   ]
  },
  {
   "cell_type": "code",
   "execution_count": 14,
   "id": "59ab56e8",
   "metadata": {},
   "outputs": [],
   "source": [
    "# Anayzing data\n",
    "mean_height = data.Height.mean()"
   ]
  },
  {
   "cell_type": "code",
   "execution_count": 15,
   "id": "a6ffcf98",
   "metadata": {},
   "outputs": [
    {
     "data": {
      "text/plain": [
       "0     162.56\n",
       "1     172.72\n",
       "2     167.64\n",
       "3        NaN\n",
       "4     157.48\n",
       "       ...  \n",
       "84     65.00\n",
       "85     33.00\n",
       "86     53.00\n",
       "87     55.33\n",
       "88     56.55\n",
       "Name: Height, Length: 89, dtype: float64"
      ]
     },
     "execution_count": 15,
     "metadata": {},
     "output_type": "execute_result"
    }
   ],
   "source": [
    "data.Height"
   ]
  },
  {
   "cell_type": "code",
   "execution_count": 16,
   "id": "ddce79cb",
   "metadata": {},
   "outputs": [],
   "source": [
    "#to fill the null value u can  take the mean value and add in null points \n",
    "data.Height = data.Height.fillna(mean_height)"
   ]
  },
  {
   "cell_type": "code",
   "execution_count": 17,
   "id": "5f13f6b0",
   "metadata": {},
   "outputs": [
    {
     "data": {
      "text/plain": [
       "0     162.56000\n",
       "1     172.72000\n",
       "2     167.64000\n",
       "3      74.46012\n",
       "4     157.48000\n",
       "5      74.46012\n",
       "6     157.66000\n",
       "7     158.00000\n",
       "8      99.99000\n",
       "9     100.00000\n",
       "10     60.67000\n",
       "11     69.99000\n",
       "12     73.00000\n",
       "13     87.97000\n",
       "14     74.46012\n",
       "15     84.55000\n",
       "16     44.33000\n",
       "17     56.78000\n",
       "18     67.87000\n",
       "19     74.46012\n",
       "20     74.46012\n",
       "21     74.46012\n",
       "22     77.67000\n",
       "23     67.44000\n",
       "24     44.67000\n",
       "25     78.98000\n",
       "26     79.54000\n",
       "27     98.23000\n",
       "28     55.55000\n",
       "29     55.89000\n",
       "30     44.88000\n",
       "31     78.44000\n",
       "32     67.23000\n",
       "33     82.34000\n",
       "34     83.45000\n",
       "35     98.34000\n",
       "36     72.00000\n",
       "37     71.00000\n",
       "38     69.00000\n",
       "39     68.00000\n",
       "40     67.00000\n",
       "41     63.00000\n",
       "42     64.00000\n",
       "43     88.00000\n",
       "44     67.00000\n",
       "45     55.00000\n",
       "46     77.00000\n",
       "47     45.00000\n",
       "48     54.00000\n",
       "49     86.00000\n",
       "50     78.90000\n",
       "51     56.99000\n",
       "52     49.88000\n",
       "53     66.44000\n",
       "54     67.88000\n",
       "Name: Height, dtype: float64"
      ]
     },
     "execution_count": 17,
     "metadata": {},
     "output_type": "execute_result"
    }
   ],
   "source": [
    "data.Height[0:55]"
   ]
  },
  {
   "cell_type": "code",
   "execution_count": 18,
   "id": "33ee2bdb",
   "metadata": {},
   "outputs": [
    {
     "data": {
      "text/html": [
       "<div>\n",
       "<style scoped>\n",
       "    .dataframe tbody tr th:only-of-type {\n",
       "        vertical-align: middle;\n",
       "    }\n",
       "\n",
       "    .dataframe tbody tr th {\n",
       "        vertical-align: top;\n",
       "    }\n",
       "\n",
       "    .dataframe thead th {\n",
       "        text-align: right;\n",
       "    }\n",
       "</style>\n",
       "<table border=\"1\" class=\"dataframe\">\n",
       "  <thead>\n",
       "    <tr style=\"text-align: right;\">\n",
       "      <th></th>\n",
       "      <th>Age</th>\n",
       "      <th>Height</th>\n",
       "      <th>Weight</th>\n",
       "      <th>Premium</th>\n",
       "    </tr>\n",
       "  </thead>\n",
       "  <tbody>\n",
       "    <tr>\n",
       "      <th>0</th>\n",
       "      <td>20</td>\n",
       "      <td>162.56000</td>\n",
       "      <td>70</td>\n",
       "      <td>15000</td>\n",
       "    </tr>\n",
       "    <tr>\n",
       "      <th>1</th>\n",
       "      <td>20</td>\n",
       "      <td>172.72000</td>\n",
       "      <td>95</td>\n",
       "      <td>16000</td>\n",
       "    </tr>\n",
       "    <tr>\n",
       "      <th>2</th>\n",
       "      <td>20</td>\n",
       "      <td>167.64000</td>\n",
       "      <td>78</td>\n",
       "      <td>17000</td>\n",
       "    </tr>\n",
       "    <tr>\n",
       "      <th>3</th>\n",
       "      <td>21</td>\n",
       "      <td>74.46012</td>\n",
       "      <td>110</td>\n",
       "      <td>18000</td>\n",
       "    </tr>\n",
       "    <tr>\n",
       "      <th>4</th>\n",
       "      <td>22</td>\n",
       "      <td>157.48000</td>\n",
       "      <td>85</td>\n",
       "      <td>19000</td>\n",
       "    </tr>\n",
       "    <tr>\n",
       "      <th>...</th>\n",
       "      <td>...</td>\n",
       "      <td>...</td>\n",
       "      <td>...</td>\n",
       "      <td>...</td>\n",
       "    </tr>\n",
       "    <tr>\n",
       "      <th>84</th>\n",
       "      <td>88</td>\n",
       "      <td>65.00000</td>\n",
       "      <td>129</td>\n",
       "      <td>44000</td>\n",
       "    </tr>\n",
       "    <tr>\n",
       "      <th>85</th>\n",
       "      <td>88</td>\n",
       "      <td>33.00000</td>\n",
       "      <td>123</td>\n",
       "      <td>44000</td>\n",
       "    </tr>\n",
       "    <tr>\n",
       "      <th>86</th>\n",
       "      <td>89</td>\n",
       "      <td>53.00000</td>\n",
       "      <td>137</td>\n",
       "      <td>45000</td>\n",
       "    </tr>\n",
       "    <tr>\n",
       "      <th>87</th>\n",
       "      <td>89</td>\n",
       "      <td>55.33000</td>\n",
       "      <td>125</td>\n",
       "      <td>45000</td>\n",
       "    </tr>\n",
       "    <tr>\n",
       "      <th>88</th>\n",
       "      <td>90</td>\n",
       "      <td>56.55000</td>\n",
       "      <td>124</td>\n",
       "      <td>45000</td>\n",
       "    </tr>\n",
       "  </tbody>\n",
       "</table>\n",
       "<p>89 rows × 4 columns</p>\n",
       "</div>"
      ],
      "text/plain": [
       "    Age     Height  Weight  Premium\n",
       "0    20  162.56000      70    15000\n",
       "1    20  172.72000      95    16000\n",
       "2    20  167.64000      78    17000\n",
       "3    21   74.46012     110    18000\n",
       "4    22  157.48000      85    19000\n",
       "..  ...        ...     ...      ...\n",
       "84   88   65.00000     129    44000\n",
       "85   88   33.00000     123    44000\n",
       "86   89   53.00000     137    45000\n",
       "87   89   55.33000     125    45000\n",
       "88   90   56.55000     124    45000\n",
       "\n",
       "[89 rows x 4 columns]"
      ]
     },
     "execution_count": 18,
     "metadata": {},
     "output_type": "execute_result"
    }
   ],
   "source": [
    "data\n"
   ]
  },
  {
   "cell_type": "code",
   "execution_count": 20,
   "id": "8a2f1a9b",
   "metadata": {},
   "outputs": [],
   "source": [
    "# Now i make a methode of linear regression\n",
    "reg = linear_model.LinearRegression()"
   ]
  },
  {
   "cell_type": "code",
   "execution_count": 25,
   "id": "51cd84e2",
   "metadata": {},
   "outputs": [
    {
     "data": {
      "text/plain": [
       "LinearRegression()"
      ]
     },
     "execution_count": 25,
     "metadata": {},
     "output_type": "execute_result"
    }
   ],
   "source": [
    "# Now fitting the dependent and indepedent variable \n",
    "reg.fit(data[['Age','Height','Weight']],data['Premium'])"
   ]
  },
  {
   "cell_type": "code",
   "execution_count": 26,
   "id": "495a9004",
   "metadata": {},
   "outputs": [
    {
     "data": {
      "text/plain": [
       "array([350.86099966, -29.26526209, -23.23789215])"
      ]
     },
     "execution_count": 26,
     "metadata": {},
     "output_type": "execute_result"
    }
   ],
   "source": [
    "#Now for coffient\n",
    "reg.coef_"
   ]
  },
  {
   "cell_type": "code",
   "execution_count": 27,
   "id": "e3ba5b57",
   "metadata": {},
   "outputs": [
    {
     "data": {
      "text/plain": [
       "17778.77876646552"
      ]
     },
     "execution_count": 27,
     "metadata": {},
     "output_type": "execute_result"
    }
   ],
   "source": [
    "#For intercept\n",
    "reg.intercept_"
   ]
  },
  {
   "cell_type": "code",
   "execution_count": 30,
   "id": "50f4b8cf",
   "metadata": {},
   "outputs": [
    {
     "name": "stderr",
     "output_type": "stream",
     "text": [
      "C:\\Users\\Junaid\\anaconda3\\lib\\site-packages\\sklearn\\base.py:450: UserWarning: X does not have valid feature names, but LinearRegression was fitted with feature names\n",
      "  warnings.warn(\n"
     ]
    },
    {
     "data": {
      "text/plain": [
       "array([23303.03229352])"
      ]
     },
     "execution_count": 30,
     "metadata": {},
     "output_type": "execute_result"
    }
   ],
   "source": [
    "#Now want to predict\n",
    "reg.predict([[27,100.00,44]])"
   ]
  },
  {
   "cell_type": "code",
   "execution_count": 45,
   "id": "fcb30378",
   "metadata": {},
   "outputs": [],
   "source": [
    "#data.head(20)"
   ]
  },
  {
   "cell_type": "code",
   "execution_count": 47,
   "id": "f6e9ef18",
   "metadata": {},
   "outputs": [
    {
     "data": {
      "text/plain": [
       "23303.03229368552"
      ]
     },
     "execution_count": 47,
     "metadata": {},
     "output_type": "execute_result"
    }
   ],
   "source": [
    "#menual Formula\n",
    "\n",
    "27*350.86099966 + -29.26526209*100.00 + 44*-23.23789215 +17778.77876646552\n"
   ]
  },
  {
   "cell_type": "code",
   "execution_count": null,
   "id": "9529abeb",
   "metadata": {},
   "outputs": [],
   "source": []
  }
 ],
 "metadata": {
  "kernelspec": {
   "display_name": "Python 3 (ipykernel)",
   "language": "python",
   "name": "python3"
  },
  "language_info": {
   "codemirror_mode": {
    "name": "ipython",
    "version": 3
   },
   "file_extension": ".py",
   "mimetype": "text/x-python",
   "name": "python",
   "nbconvert_exporter": "python",
   "pygments_lexer": "ipython3",
   "version": "3.9.13"
  }
 },
 "nbformat": 4,
 "nbformat_minor": 5
}
